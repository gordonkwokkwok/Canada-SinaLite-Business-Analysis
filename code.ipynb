{
 "cells": [
  {
   "attachments": {},
   "cell_type": "markdown",
   "metadata": {},
   "source": [
    "# Contents  \n",
    "1. [Extraction](#1)     \n",
    "2. [Exploratory Data Analysis (EDA)](#2) \n",
    "3. [Transformation & Analysis](#3) \n",
    "    1. [Age Category Column (Optional)](#3.1) \n",
    "    2. [Risk Group Category Column (Optional)](#3.2) \n",
    "    3. [Muti Risk Factors Category Column (Optional)](#3.3) \n",
    "4. [Data Visualization](#4)\n",
    "5. [Prediction](#5)\n"
   ]
  },
  {
   "cell_type": "code",
   "execution_count": null,
   "metadata": {},
   "outputs": [],
   "source": [
    "!pip3 install selenium"
   ]
  },
  {
   "cell_type": "markdown",
   "metadata": {},
   "source": [
    "<a id=\"1\"></a>\n",
    "# 1. Extraction"
   ]
  },
  {
   "cell_type": "code",
   "execution_count": 28,
   "metadata": {},
   "outputs": [
    {
     "name": "stdout",
     "output_type": "stream",
     "text": [
      "<selenium.webdriver.remote.webelement.WebElement (session=\"b5606848b3c81dde9739273804065015\", element=\"f.260B0936AED597C994C9C5DB644C2755.d.370EC370AF1EEC8D4A7956DFE2567B3B.e.114\")>\n",
      "4.8\n"
     ]
    }
   ],
   "source": [
    "import csv\n",
    "import time\n",
    "from selenium import webdriver\n",
    "from selenium.webdriver.common.by import By\n",
    "from selenium.webdriver.chrome.service import Service\n",
    "\n",
    "# Set the path to the Chrome WebDriver\n",
    "service = Service()\n",
    "options = webdriver.ChromeOptions()\n",
    "driver = webdriver.Chrome(service=service, options=options)\n",
    "\n",
    "# Open the SinaLite website\n",
    "driver.get('https://sinalite.com/en_ca/all-products.html')\n",
    "\n",
    "# Initialize a list to store data\n",
    "data = []\n",
    "\n",
    "# Get all product containers\n",
    "product_containers = driver.find_elements(By.CLASS_NAME, 'product-container')\n",
    "\n",
    "# Process only the first product container\n",
    "container = product_containers[0]\n",
    "\n",
    "# Get the category name\n",
    "category_name = container.find_element(By.CLASS_NAME, 'category-name').text\n",
    "\n",
    "# Get all product names and their links under the category\n",
    "products = container.find_elements(By.CLASS_NAME, 'category-product-name')\n",
    "product_links = [product.find_element(By.TAG_NAME, 'a').get_attribute('href') for product in products]\n",
    "product_names = [product.text for product in products]\n",
    "\n",
    "# Iterate over each product link\n",
    "for product_name, product_link in zip(product_names, product_links):\n",
    "    # Go to the product page\n",
    "    driver.get(product_link)\n",
    "    time.sleep(2)  # Wait for the page to load\n",
    "\n",
    "    # Get the number of reviews\n",
    "    try:\n",
    "        reviews_element = driver.find_element(By.XPATH, '//a[contains(@aria-label, \"reviews\")]')\n",
    "        num_reviews = reviews_element.text.split()[0]\n",
    "    except:\n",
    "        num_reviews = 'No reviews'\n",
    "\n",
    "    # Get the average rating\n",
    "    try:\n",
    "        # Click on the 'Reviews' tab to switch to the reviews section\n",
    "        reviews_tab = driver.find_element(By.XPATH, \"//a[@data-stab-name='reviews']\")\n",
    "        reviews_tab.click()\n",
    "\n",
    "        avg_rating_element = driver.find_element(By.CLASS_NAME, 'avg-score')\n",
    "        print(avg_rating_element)\n",
    "        avg_rating = avg_rating_element.text\n",
    "        print(avg_rating_element.text)\n",
    "    except:\n",
    "        avg_rating = 'No rating'\n",
    "        print(avg_rating)\n",
    "\n",
    "    # Get all rows in the table\n",
    "    table_rows = driver.find_elements(By.XPATH, '//div[@id=\"details\"]/table/tbody/tr')\n",
    "    table_data = {}\n",
    "    for row in table_rows:\n",
    "        cells = row.find_elements(By.TAG_NAME, 'td')\n",
    "        if len(cells) >= 2:\n",
    "            property_title = cells[0].text\n",
    "            property_value = cells[1].text\n",
    "            table_data[property_title] = property_value\n",
    "\n",
    "    # Append category name, product name, number of reviews, average rating, and table data to the data list\n",
    "    data.append({\n",
    "        'Category Name': category_name,\n",
    "        'Product Name': product_name,\n",
    "        'Number of Reviews': num_reviews,\n",
    "        'Average Rating': avg_rating,\n",
    "        'Paper Type': table_data.get('Paper Type', ''),\n",
    "        'Coating': table_data.get('Coating', ''),\n",
    "        'Color': table_data.get('Color', ''),\n",
    "        'Quantities': table_data.get('Quantities', ''),\n",
    "        'Sizes': table_data.get('Sizes', ''),\n",
    "        'Finishing': table_data.get('Finishing', ''),\n",
    "        'File Type': table_data.get('File Type', '')\n",
    "    })\n",
    "    break\n",
    "\n",
    "# Save the data to a CSV file\n",
    "with open('sinalite_products_reviews.csv', mode='w', newline='') as file:\n",
    "    writer = csv.DictWriter(file, fieldnames=['Category Name', 'Product Name', 'Number of Reviews', 'Average Rating', 'Paper Type', 'Coating', 'Color', 'Quantities', 'Sizes', 'Finishing', 'File Type'])\n",
    "    writer.writeheader()\n",
    "    writer.writerows(data)\n",
    "\n",
    "# Quit the WebDriver\n",
    "driver.quit()\n"
   ]
  }
 ],
 "metadata": {
  "kernelspec": {
   "display_name": "gordonEnv",
   "language": "python",
   "name": "python3"
  },
  "language_info": {
   "codemirror_mode": {
    "name": "ipython",
    "version": 3
   },
   "file_extension": ".py",
   "mimetype": "text/x-python",
   "name": "python",
   "nbconvert_exporter": "python",
   "pygments_lexer": "ipython3",
   "version": "3.9.12"
  },
  "orig_nbformat": 4
 },
 "nbformat": 4,
 "nbformat_minor": 2
}
